{
 "cells": [
  {
   "cell_type": "code",
   "execution_count": 1,
   "id": "eaff0236-b709-47fc-a840-d27e820a8f1c",
   "metadata": {},
   "outputs": [
    {
     "name": "stdin",
     "output_type": "stream",
     "text": [
      "Enter the URL of an article:  https://www.crummy.com/software/BeautifulSoup/bs4/doc/\n"
     ]
    },
    {
     "name": "stdout",
     "output_type": "stream",
     "text": [
      "File saved in directory scraped_articles/.txt\n"
     ]
    }
   ],
   "source": [
    "import os\n",
    "import sys\n",
    "import requests\n",
    "import re\n",
    "from bs4 import BeautifulSoup  # Make sure this module is installed\n",
    "\n",
    "# function to get the html source text of the website article\n",
    "def get_page():\n",
    "    # Ask the user to input \"Enter the URL of an article: \" and collect it in url\n",
    "    url = input(\"Enter the URL of an article: \")\n",
    "\n",
    "    # Call get method in requests object, pass url and collect it in res\n",
    "    res = requests.get(url)\n",
    "\n",
    "    # Check if the request was successful\n",
    "    if res.status_code != 200:\n",
    "        print('Failed to retrieve the page. Please check the URL and try again.')\n",
    "        sys.exit(1)\n",
    "\n",
    "    soup = BeautifulSoup(res.text, 'html.parser')\n",
    "    return soup, url\n",
    "\n",
    "# function to remove all the html tags and replace some with specific strings\n",
    "def clean(text):\n",
    "    rep = {\"<br>\": \"\\n\", \"<br/>\": \"\\n\", \"<li>\":  \"\\n\"}\n",
    "    rep = dict((re.escape(k), v) for k, v in rep.items())\n",
    "    pattern = re.compile(\"|\".join(rep.keys()))\n",
    "    text = pattern.sub(lambda m: rep[re.escape(m.group(0))], text)\n",
    "    text = re.sub(r'<(.*?)>', '', text)\n",
    "    return text\n",
    "\n",
    "def collect_text(soup, url):\n",
    "    text = f'url: {url}\\n\\n'\n",
    "    # Collect text differently depending on the site structure\n",
    "    if \"crummy.com\" in url:\n",
    "        # For BeautifulSoup documentation, let's get text from <p> and <li> tags as they contain useful info\n",
    "        elements = soup.find_all(['p', 'li'])\n",
    "    else:\n",
    "        # Default to <p> tags\n",
    "        elements = soup.find_all('p')\n",
    "        \n",
    "    for elem in elements:\n",
    "        text += f\"{elem.text}\\n\\n\"\n",
    "    return text\n",
    "\n",
    "# function to save file in the current directory\n",
    "def save_file(text, url):\n",
    "    if not os.path.exists('./scraped_articles'):\n",
    "        os.mkdir('./scraped_articles')\n",
    "    name = url.split(\"/\")[-1] if '/' in url else url\n",
    "    fname = f'scraped_articles/{name}.txt'\n",
    "    \n",
    "    # write a file using with\n",
    "    with open(fname, 'w', encoding='utf-8') as file:\n",
    "        file.write(text)\n",
    "\n",
    "    print(f'File saved in directory {fname}')\n",
    "\n",
    "if __name__ == '__main__':\n",
    "    soup, url = get_page()\n",
    "    text = collect_text(soup, url)\n",
    "    save_file(text, url)\n"
   ]
  },
  {
   "cell_type": "code",
   "execution_count": null,
   "id": "5c830869-be7f-423c-b126-ac5ae734b140",
   "metadata": {},
   "outputs": [],
   "source": []
  }
 ],
 "metadata": {
  "kernelspec": {
   "display_name": "Python 3 (ipykernel)",
   "language": "python",
   "name": "python3"
  },
  "language_info": {
   "codemirror_mode": {
    "name": "ipython",
    "version": 3
   },
   "file_extension": ".py",
   "mimetype": "text/x-python",
   "name": "python",
   "nbconvert_exporter": "python",
   "pygments_lexer": "ipython3",
   "version": "3.12.3"
  }
 },
 "nbformat": 4,
 "nbformat_minor": 5
}
